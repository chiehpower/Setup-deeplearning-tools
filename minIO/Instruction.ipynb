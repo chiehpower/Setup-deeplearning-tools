{
 "cells": [
  {
   "cell_type": "code",
   "execution_count": 1,
   "id": "da4fc81c",
   "metadata": {},
   "outputs": [
    {
     "name": "stdout",
     "output_type": "stream",
     "text": [
      "Defaulting to user installation because normal site-packages is not writeable\n",
      "Requirement already satisfied: minio in /home/chieh/.local/lib/python3.8/site-packages (7.1.5)\n",
      "Requirement already satisfied: certifi in /usr/lib/python3/dist-packages (from minio) (2018.1.18)\n",
      "Requirement already satisfied: urllib3 in /home/chieh/.local/lib/python3.8/site-packages (from minio) (1.26.7)\n",
      "\u001b[33mWARNING: You are using pip version 22.0.3; however, version 22.0.4 is available.\n",
      "You should consider upgrading via the '/usr/bin/python3.8 -m pip install --upgrade pip' command.\u001b[0m\u001b[33m\n",
      "\u001b[0m"
     ]
    }
   ],
   "source": [
    "!pip install minio"
   ]
  },
  {
   "cell_type": "markdown",
   "id": "7616ceab",
   "metadata": {},
   "source": [
    "# Instruction\n",
    "Author: Chieh\n",
    "\n",
    "Let's start to take a look how to use MinIO server.\n",
    "\n",
    "Reference from official website.\n",
    "\n",
    "## Register the MINIO server\n",
    "\n",
    "Please make sure that you have launched the server."
   ]
  },
  {
   "cell_type": "code",
   "execution_count": 2,
   "id": "55742aae",
   "metadata": {},
   "outputs": [],
   "source": [
    "from minio import Minio\n",
    "import os \n",
    "minio_conf = {\n",
    "    'endpoint': '0.0.0.0:9000',\n",
    "    'access_key': 'minioadmin',\n",
    "    'secret_key': 'minioadmin',\n",
    "    'secure': False\n",
    "}\n",
    "minioClient = Minio(**minio_conf)\n",
    "\n",
    "from minio.error import InvalidResponseError"
   ]
  },
  {
   "cell_type": "markdown",
   "id": "07210a8b",
   "metadata": {},
   "source": [
    "## Check the bucket whether it exists or not?"
   ]
  },
  {
   "cell_type": "code",
   "execution_count": 3,
   "id": "4ad674ad",
   "metadata": {},
   "outputs": [
    {
     "name": "stdout",
     "output_type": "stream",
     "text": [
      "False\n"
     ]
    }
   ],
   "source": [
    "try:\n",
    "    print(minioClient.bucket_exists(\"mybucket\"))\n",
    "except InvalidResponseError as err:\n",
    "    print(err)"
   ]
  },
  {
   "cell_type": "markdown",
   "id": "15dc8dc2",
   "metadata": {},
   "source": [
    "## Create a bucket if it doest exist"
   ]
  },
  {
   "cell_type": "code",
   "execution_count": 4,
   "id": "0caebbac",
   "metadata": {},
   "outputs": [
    {
     "name": "stdout",
     "output_type": "stream",
     "text": [
      "Created successfully.\n"
     ]
    }
   ],
   "source": [
    "try:\n",
    "    if minioClient.bucket_exists(\"mybucket\"):\n",
    "        print(\"Already created.\")\n",
    "    else:\n",
    "        minioClient.make_bucket(\"mybucket\", location=\"us-east-1\")\n",
    "        print(\"Created successfully.\")\n",
    "except InvalidResponseError as err:\n",
    "    print(err)"
   ]
  },
  {
   "cell_type": "markdown",
   "id": "c682e321",
   "metadata": {},
   "source": [
    "## List all of buckets on the server"
   ]
  },
  {
   "cell_type": "code",
   "execution_count": 5,
   "id": "26bcd2c2",
   "metadata": {},
   "outputs": [
    {
     "name": "stdout",
     "output_type": "stream",
     "text": [
      "mybucket 2022-03-24 03:03:48.051000+00:00\n"
     ]
    }
   ],
   "source": [
    "buckets = minioClient.list_buckets()\n",
    "for bucket in buckets:\n",
    "    print(bucket.name, bucket.creation_date)"
   ]
  },
  {
   "cell_type": "markdown",
   "id": "2d303c8f",
   "metadata": {},
   "source": [
    "## Upload objects (files)"
   ]
  },
  {
   "cell_type": "code",
   "execution_count": 6,
   "id": "51f8743d",
   "metadata": {},
   "outputs": [],
   "source": [
    "file_name = 'person.jpg'\n",
    "\n",
    "try:\n",
    "    minioClient.fput_object(\"mybucket\", file_name,file_name, 'application/jpg')\n",
    "except InvalidResponseError as err:\n",
    "    print(err)"
   ]
  },
  {
   "cell_type": "markdown",
   "id": "251a418a",
   "metadata": {},
   "source": [
    "## List the objects in the bucket"
   ]
  },
  {
   "cell_type": "code",
   "execution_count": 7,
   "id": "d191d8fd",
   "metadata": {},
   "outputs": [],
   "source": [
    "objects = minioClient.list_objects('mybucket', prefix='my-prefixname',\n",
    "                              recursive=True)\n",
    "for obj in objects:\n",
    "    print(obj.bucket_name, obj.object_name.encode('utf-8'), obj.last_modified,\n",
    "          obj.etag, obj.size, obj.content_type)"
   ]
  },
  {
   "cell_type": "markdown",
   "id": "0dcd7511",
   "metadata": {},
   "source": [
    "## Download objects (files)"
   ]
  },
  {
   "cell_type": "code",
   "execution_count": 8,
   "id": "1bc0362e",
   "metadata": {},
   "outputs": [
    {
     "name": "stdout",
     "output_type": "stream",
     "text": [
      "Download to test/person-server.jpg\n"
     ]
    }
   ],
   "source": [
    "# Get a full object and prints the original object stat information.\n",
    "location_path = 'test/person-server.jpg'\n",
    "try:\n",
    "    os.makedirs('test', exist_ok=True)\n",
    "    minioClient.fget_object('mybucket', 'person.jpg', location_path)\n",
    "    print(f\"Download to {location_path}\")\n",
    "except InvalidResponseError as err:\n",
    "    print(err)"
   ]
  },
  {
   "cell_type": "markdown",
   "id": "8fe1743f",
   "metadata": {},
   "source": [
    "## Remove objects (files)"
   ]
  },
  {
   "cell_type": "code",
   "execution_count": 9,
   "id": "75e234af",
   "metadata": {},
   "outputs": [],
   "source": [
    "# Remove an object.\n",
    "try:\n",
    "    minioClient.remove_object('mybucket', 'person.jpg')\n",
    "except ResponseError as err:\n",
    "    print(err)"
   ]
  },
  {
   "cell_type": "markdown",
   "id": "c99ed2da",
   "metadata": {},
   "source": [
    "## Remove the bucket "
   ]
  },
  {
   "cell_type": "code",
   "execution_count": 10,
   "id": "7af1cef6",
   "metadata": {},
   "outputs": [
    {
     "name": "stdout",
     "output_type": "stream",
     "text": [
      "Remove the bucket successfully.\n"
     ]
    }
   ],
   "source": [
    "try:\n",
    "    if minioClient.bucket_exists(\"mybucket\"):\n",
    "        minioClient.remove_bucket(\"mybucket\")\n",
    "        print(\"Remove the bucket successfully.\")\n",
    "    else:\n",
    "        print(\"There is no this bucket on the server.\")\n",
    "except ResponseError as err:\n",
    "    print(err)"
   ]
  }
 ],
 "metadata": {
  "kernelspec": {
   "display_name": "Python 3 (ipykernel)",
   "language": "python",
   "name": "python3"
  },
  "language_info": {
   "codemirror_mode": {
    "name": "ipython",
    "version": 3
   },
   "file_extension": ".py",
   "mimetype": "text/x-python",
   "name": "python",
   "nbconvert_exporter": "python",
   "pygments_lexer": "ipython3",
   "version": "3.8.13"
  }
 },
 "nbformat": 4,
 "nbformat_minor": 5
}
